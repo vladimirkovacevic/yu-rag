{
 "cells": [
  {
   "cell_type": "code",
   "execution_count": 25,
   "id": "08e044fe",
   "metadata": {},
   "outputs": [
    {
     "data": {
      "application/vnd.jupyter.widget-view+json": {
       "model_id": "2db1593f808040fdb22b7b4fc4f5c644",
       "version_major": 2,
       "version_minor": 0
      },
      "text/plain": [
       "model.safetensors:   9%|8         | 273M/3.13G [00:00<?, ?B/s]"
      ]
     },
     "metadata": {},
     "output_type": "display_data"
    },
    {
     "data": {
      "application/vnd.jupyter.widget-view+json": {
       "model_id": "2a3515dff06a4387acc0947375a0560d",
       "version_major": 2,
       "version_minor": 0
      },
      "text/plain": [
       "generation_config.json:   0%|          | 0.00/111 [00:00<?, ?B/s]"
      ]
     },
     "metadata": {},
     "output_type": "display_data"
    },
    {
     "data": {
      "application/vnd.jupyter.widget-view+json": {
       "model_id": "5e4f019a49c94039a81087e9f65778a7",
       "version_major": 2,
       "version_minor": 0
      },
      "text/plain": [
       "tokenizer.json:   0%|          | 0.00/2.17M [00:00<?, ?B/s]"
      ]
     },
     "metadata": {},
     "output_type": "display_data"
    },
    {
     "name": "stderr",
     "output_type": "stream",
     "text": [
      "Device set to use cpu\n",
      "Setting `pad_token_id` to `eos_token_id`:2 for open-end generation.\n"
     ]
    },
    {
     "name": "stdout",
     "output_type": "stream",
     "text": [
      "Odgovor: Use the following pieces of context to answer the question at the end. If you don't know the answer, just say that you don't know, don't try to make up an answer.\n",
      "\n",
      "(3) Na učinioca krivičnog dela koje je predviđeno zakonom sa određenim vremenskim trajanjem primenjuje se taj zakon, bez\n",
      "obzira na to kad mu se sudi, ako tim zakonom nije drukčije određeno.\n",
      "Važenje krivičnog zakonodavstva na teritoriji Srbije\n",
      "Član 6\n",
      "(1) Krivično zakonodavstvo Republike Srbije važi za svakog ko na njenoj teritoriji učini krivično delo.\n",
      "(2) Krivično zakonodavstvo Srbije važi i za svakog ko učini krivično delo na domaćem brodu, bez obzira gde se brod nalazi u\n",
      "vreme izvršenja dela.\n",
      "\n",
      "vreme izvršenja dela.\n",
      "(3) Krivično zakonodavstvo Srbije važi i za svakog ko učini krivično delo u domaćem civilnom vazduhoplovu dok je u letu ili u\n",
      "domaćem vojnom vazduhoplovu, bez obzira gde se vazduhoplov nalazio u vreme izvršenja krivičnog dela.\n",
      "(4) Ako je u slučajevima iz st. 1. do 3. ovog člana u stranoj državi pokrenut ili dovršen krivični postupak, krivično gonjenje u\n",
      "Srbiji preduzeće se samo po odobrenju republičkog javnog tužioca.\n",
      "\n",
      "(2) Pod uslovima iz stava 1. ovog člana krivično zakonodavstvo Srbije važi i za učinioca koji je postao državljanin Srbije pošto\n",
      "je učinio krivično delo.\n",
      "Važenje krivičnog zakonodavstva Srbije za stranca koji učini krivično delo u inostranstvu\n",
      "Član 9\n",
      "(1) Krivično zakonodavstvo Srbije važi i za stranca koji van teritorije Srbije učini prema njoj ili njenom državljaninu krivično\n",
      "delo i kad nisu u pitanju krivična dela navedena u članu 7. ovog zakonika, ako se zatekne na teritoriji Srbije ili bude izručen\n",
      "\n",
      "(5) Krivično gonjenje stranca u slučajevima iz st. 1. do 3. ovog člana može se, pod uslovom uzajamnosti, ustupiti stranoj\n",
      "državi.\n",
      "Važenje krivičnog zakonodavstva Srbije za učinioce određenih krivičnih dela izvršenih u\n",
      "inostranstvu\n",
      "Član 7\n",
      "Krivično zakonodavstvo Republike Srbije važi za svakog ko u inostranstvu učini krivično delo iz čl. 305. do 316, čl. 318. do\n",
      "321, krivično delo iz čl. 391. do 393a ovog zakonika ako je izvršeno prema Republici Srbiji ili njenom državljaninu, kao i\n",
      "\n",
      "Question: Na kojoj teritoriji važi krivični zakon Srbije?\n",
      "Helpful Answer:Kosov lice i gra (naravno1 da pravosnažnost2 zakona ili nem.\n",
      "\n",
      "Izvor: data/krivicni_zakonik.txt\n",
      "(3) Na učinioca krivičnog dela koje je predviđeno zakonom sa određenim vremenskim trajanjem primenjuje se taj zakon, bez\n",
      "obzira na to kad mu se sudi, ako tim zakonom nije drukčije određeno.\n",
      "Važenje krivičnog zakonodavstva na teritoriji Srbije\n",
      "Član 6\n",
      "(1) Krivično zakonodavstvo Republike Srbije važi za svakog ko na njenoj teritoriji učini krivično delo.\n",
      "(2) Krivično zakonodavstvo Srbije važi i za svakog ko učini krivično delo na domaćem brodu, bez obzira gde se brod nalazi u\n",
      "vreme izvršenja dela.\n",
      "\n",
      "Izvor: data/krivicni_zakonik.txt\n",
      "vreme izvršenja dela.\n",
      "(3) Krivično zakonodavstvo Srbije važi i za svakog ko učini krivično delo u domaćem civilnom vazduhoplovu dok je u letu ili u\n",
      "domaćem vojnom vazduhoplovu, bez obzira gde se vazduhoplov nalazio u vreme izvršenja krivičnog dela.\n",
      "(4) Ako je u slučajevima iz st. 1. do 3. ovog člana u stranoj državi pokrenut ili dovršen krivični postupak, krivično gonjenje u\n",
      "Srbiji preduzeće se samo po odobrenju republičkog javnog tužioca.\n",
      "\n",
      "Izvor: data/krivicni_zakonik.txt\n",
      "(2) Pod uslovima iz stava 1. ovog člana krivično zakonodavstvo Srbije važi i za učinioca koji je postao državljanin Srbije pošto\n",
      "je učinio krivično delo.\n",
      "Važenje krivičnog zakonodavstva Srbije za stranca koji učini krivično delo u inostranstvu\n",
      "Član 9\n",
      "(1) Krivično zakonodavstvo Srbije važi i za stranca koji van teritorije Srbije učini prema njoj ili njenom državljaninu krivično\n",
      "delo i kad nisu u pitanju krivična dela navedena u članu 7. ovog zakonika, ako se zatekne na teritoriji Srbije ili bude izručen\n",
      "\n",
      "Izvor: data/krivicni_zakonik.txt\n",
      "(5) Krivično gonjenje stranca u slučajevima iz st. 1. do 3. ovog člana može se, pod uslovom uzajamnosti, ustupiti stranoj\n",
      "državi.\n",
      "Važenje krivičnog zakonodavstva Srbije za učinioce određenih krivičnih dela izvršenih u\n",
      "inostranstvu\n",
      "Član 7\n",
      "Krivično zakonodavstvo Republike Srbije važi za svakog ko u inostranstvu učini krivično delo iz čl. 305. do 316, čl. 318. do\n",
      "321, krivično delo iz čl. 391. do 393a ovog zakonika ako je izvršeno prema Republici Srbiji ili njenom državljaninu, kao i\n"
     ]
    }
   ],
   "source": [
    "from langchain.embeddings import HuggingFaceEmbeddings\n",
    "from langchain.vectorstores import FAISS\n",
    "from langchain.document_loaders import TextLoader\n",
    "from langchain.text_splitter import RecursiveCharacterTextSplitter\n",
    "from langchain.llms import HuggingFacePipeline\n",
    "from langchain.chains import RetrievalQA\n",
    "from transformers import pipeline\n",
    "from sentence_transformers import SentenceTransformer\n",
    "\n",
    "\n",
    "\n",
    "# Load Serbian embeddings\n",
    "# embedding_model = SentenceTransformer('djovak/embedic-large')\n",
    "embedding_model = HuggingFaceEmbeddings(model_name=\"djovak/embedic-large\")\n",
    "#HuggingFaceEmbeddings(model_name=\"intfloat/multilingual-e5-large\")\n",
    "\n",
    "# Load law book corpus (assuming it's a text file)\n",
    "loader = TextLoader(\"data/krivicni_zakonik.txt\", encoding=\"utf-8\")\n",
    "documents = loader.load()\n",
    "\n",
    "# Split documents into chunks\n",
    "text_splitter = RecursiveCharacterTextSplitter(chunk_size=512, chunk_overlap=50)\n",
    "texts = text_splitter.split_documents(documents)\n",
    "\n",
    "# Create FAISS vector store\n",
    "vectorstore = FAISS.from_documents(texts, embedding_model)\n",
    "\n",
    "# Load the LLM (Mistral or Llama)\n",
    "# llm_pipeline = pipeline(\"text-generation\", model=\"mistralai/Mistral-7B\", device=0)\n",
    "llm_pipeline = pipeline('text-generation', model='jerteh/gpt2-orao', max_new_tokens=600, device=-1)\n",
    "llm = HuggingFacePipeline(pipeline=llm_pipeline)\n",
    "\n",
    "\n",
    "# Create RAG pipeline\n",
    "# TODO: Investigate alternate solutions for RAG!\n",
    "qa = RetrievalQA.from_chain_type(llm=llm, retriever=vectorstore.as_retriever(), return_source_documents=True)\n",
    "\n",
    "# # Ask a question\n",
    "# # query = \"Koji su osnovni principi krivičnog prava u Srbiji?\"\n",
    "query = \"Na kojoj teritoriji važi krivični zakon Srbije?\"\n",
    "# query = \"U kom članu se definiše teritorija važenja krivičnog zakona Srbije?\"\n",
    "\n",
    "result = qa(query)\n",
    "\n",
    "# Print answer with sources\n",
    "print(\"Odgovor:\", result[\"result\"])\n",
    "for doc in result[\"source_documents\"]:\n",
    "    print(\"\\nIzvor:\", doc.metadata[\"source\"])\n",
    "    print(doc.page_content)\n"
   ]
  },
  {
   "cell_type": "code",
   "execution_count": 26,
   "id": "44d36759",
   "metadata": {},
   "outputs": [
    {
     "data": {
      "text/plain": [
       "dict_keys(['query', 'result', 'source_documents'])"
      ]
     },
     "execution_count": 26,
     "metadata": {},
     "output_type": "execute_result"
    }
   ],
   "source": [
    "result.keys()"
   ]
  },
  {
   "cell_type": "code",
   "execution_count": 27,
   "id": "b9044d92",
   "metadata": {},
   "outputs": [
    {
     "name": "stderr",
     "output_type": "stream",
     "text": [
      "Setting `pad_token_id` to `eos_token_id`:2 for open-end generation.\n"
     ]
    },
    {
     "name": "stdout",
     "output_type": "stream",
     "text": [
      "Odgovor: Use the following pieces of context to answer the question at the end. If you don't know the answer, just say that you don't know, don't try to make up an answer.\n",
      "\n",
      "vojnom licu izreći disciplinska kazna, odnosno mera utvrđena zakonom, ako je delo dobilo naročito lak vid i ako to zahtevaju\n",
      "interesi službe.\n",
      "Krivično delo izvršeno po naređenju pretpostavljenog\n",
      "Član 430\n",
      "Neće se kazniti potčinjeni ako učini krivično delo po naređenju pretpostavljenog koje se tiče službene dužnosti, osim ako se\n",
      "naređenje odnosilo na izvršenje krivičnog dela za koje se može izreći pet godina zatvora ili teža kazna, a potčinjeni je znao\n",
      "da izvršenje naređenja predstavlja krivično delo.\n",
      "\n",
      "učinilac će se kazniti za delo iz stava 1. novčanom kaznom ili zatvorom do jedne godine, a za delo iz stava 2. zatvorom od tri\n",
      "meseca do tri godine.\n",
      "Protivljenje pretpostavljenom\n",
      "Član 401\n",
      "(1) Vojno lice koje se zajedno sa drugim vojnim licima usprotivi naređenju pretpostavljenog u vezi sa službom i neće da ga\n",
      "izvrši ili odbije da vrši svoju dužnost,\n",
      "kazniće se zatvorom od tri meseca do tri godine.\n",
      "(2) Ako je delo iz stava 1. ovog člana izvršeno organizovano,\n",
      "\n",
      "Član 400 \n",
      "(1) Vojno lice koje ne izvrši ili odbije da izvrši naređenje pretpostavljenog u vezi sa službom, pa usled toga nastupe teže\n",
      "štetne posledice za službu ili je služba bila teže ugrožena,\n",
      "kazniće se zatvorom od tri meseca do tri godine.\n",
      "(2) Ako su usled dela iz stava 1. ovog člana nastupile teške posledice za vojnu službu ili se naređenje odnosi na prijem ili\n",
      "upotrebu oružja,\n",
      "učinilac će se kazniti zatvorom od jedne do osam godina.\n",
      "(3) Ako je delo iz st. 1. i 2. ovog člana učinjeno iz nehata,\n",
      "\n",
      "međunarodnim pravom\n",
      "Član 384\n",
      "(1) Vojni zapovednik ili lice koje faktički vrši ovu funkciju, koje znajući da snage kojima komanduje ili koje kontroliše\n",
      "pripremaju ili su započele vršenje krivičnog dela iz čl. 370. do 374, člana 376, čl. 378. do 381. i člana 383. ovog zakonika ne\n",
      "preduzme mere koje je mogao i bio dužan da preduzme za sprečavanje izvršenja dela, pa usled toga dođe do izvršenja tog\n",
      "dela,\n",
      "kazniće se kaznom propisanom za to krivično delo.\n",
      "\n",
      "Question: Da li će se kazniti počinilac ako učini krivično delo po naređenju pretpostavljenog u vojsci?\n",
      "Helpful Answer:ne a sl.\n"
     ]
    }
   ],
   "source": [
    "# query = \"U kom članu se definiše teritorija važenja krivičnog zakona Srbije?\"\n",
    "# query = \"Šta se smatra pomaganjem u izvršenju krivičnog dela?\"\n",
    "query = \"Da li će se kazniti počinilac ako učini krivično delo po naređenju pretpostavljenog u vojsci?\"\n",
    "result = qa(query)\n",
    "\n",
    "# Print answer with sources\n",
    "print(\"Odgovor:\", result[\"result\"])\n",
    "# for doc in result[\"source_documents\"]:\n",
    "#     print(\"\\nIzvor:\", doc.metadata[\"source\"])\n",
    "#     print(doc.page_content)"
   ]
  },
  {
   "cell_type": "code",
   "execution_count": 30,
   "id": "d13a8dc7",
   "metadata": {},
   "outputs": [
    {
     "data": {
      "text/plain": [
       "4"
      ]
     },
     "execution_count": 30,
     "metadata": {},
     "output_type": "execute_result"
    }
   ],
   "source": [
    "len(result[\"source_documents\"])"
   ]
  },
  {
   "cell_type": "code",
   "execution_count": 28,
   "id": "3a6faf79",
   "metadata": {},
   "outputs": [
    {
     "data": {
      "text/plain": [
       "Document(id='bca9cb8f-90fc-45f5-8b76-9c58b16f0697', metadata={'source': 'data/krivicni_zakonik.txt'}, page_content='vojnom licu izreći disciplinska kazna, odnosno mera utvrđena zakonom, ako je delo dobilo naročito lak vid i ako to zahtevaju\\ninteresi službe.\\nKrivično delo izvršeno po naređenju pretpostavljenog\\nČlan 430\\nNeće se kazniti potčinjeni ako učini krivično delo po naređenju pretpostavljenog koje se tiče službene dužnosti, osim ako se\\nnaređenje odnosilo na izvršenje krivičnog dela za koje se može izreći pet godina zatvora ili teža kazna, a potčinjeni je znao\\nda izvršenje naređenja predstavlja krivično delo.')"
      ]
     },
     "execution_count": 28,
     "metadata": {},
     "output_type": "execute_result"
    }
   ],
   "source": [
    "result[\"source_documents\"][0]"
   ]
  },
  {
   "cell_type": "code",
   "execution_count": 29,
   "id": "d9fe95c3",
   "metadata": {},
   "outputs": [
    {
     "data": {
      "text/plain": [
       "Document(id='25b19619-0232-4d70-8e11-03dd6801eae3', metadata={'source': 'data/krivicni_zakonik.txt'}, page_content='učinilac će se kazniti za delo iz stava 1. novčanom kaznom ili zatvorom do jedne godine, a za delo iz stava 2. zatvorom od tri\\nmeseca do tri godine.\\nProtivljenje pretpostavljenom\\nČlan 401\\n(1) Vojno lice koje se zajedno sa drugim vojnim licima usprotivi naređenju pretpostavljenog u vezi sa službom i neće da ga\\nizvrši ili odbije da vrši svoju dužnost,\\nkazniće se zatvorom od tri meseca do tri godine.\\n(2) Ako je delo iz stava 1. ovog člana izvršeno organizovano,')"
      ]
     },
     "execution_count": 29,
     "metadata": {},
     "output_type": "execute_result"
    }
   ],
   "source": [
    "result[\"source_documents\"][1]"
   ]
  },
  {
   "cell_type": "code",
   "execution_count": null,
   "id": "e5ca3a4e",
   "metadata": {},
   "outputs": [],
   "source": []
  },
  {
   "cell_type": "code",
   "execution_count": null,
   "id": "0f2b1611",
   "metadata": {},
   "outputs": [],
   "source": []
  }
 ],
 "metadata": {
  "kernelspec": {
   "display_name": "Python 3 (ipykernel)",
   "language": "python",
   "name": "python3"
  },
  "language_info": {
   "codemirror_mode": {
    "name": "ipython",
    "version": 3
   },
   "file_extension": ".py",
   "mimetype": "text/x-python",
   "name": "python",
   "nbconvert_exporter": "python",
   "pygments_lexer": "ipython3",
   "version": "3.9.12"
  }
 },
 "nbformat": 4,
 "nbformat_minor": 5
}
