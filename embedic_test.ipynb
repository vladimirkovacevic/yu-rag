{
 "cells": [
  {
   "cell_type": "code",
   "execution_count": 24,
   "id": "2b20c14f",
   "metadata": {},
   "outputs": [],
   "source": [
    "import itertools\n",
    "import pandas as pd\n",
    "from sentence_transformers import SentenceTransformer\n",
    "from sklearn.cluster import KMeans\n",
    "from sklearn.metrics.cluster import contingency_matrix\n",
    "import seaborn as sns\n",
    "import matplotlib.pyplot as plt\n",
    "import numpy as np"
   ]
  },
  {
   "cell_type": "code",
   "execution_count": 1,
   "id": "96c1e4aa",
   "metadata": {},
   "outputs": [
    {
     "data": {
      "application/vnd.jupyter.widget-view+json": {
       "model_id": "e51c30ecb7524f13b5f67c1c774c2599",
       "version_major": 2,
       "version_minor": 0
      },
      "text/plain": [
       "modules.json:   0%|          | 0.00/349 [00:00<?, ?B/s]"
      ]
     },
     "metadata": {},
     "output_type": "display_data"
    },
    {
     "data": {
      "application/vnd.jupyter.widget-view+json": {
       "model_id": "f7495070464b46e1843d10a092423eb2",
       "version_major": 2,
       "version_minor": 0
      },
      "text/plain": [
       "config_sentence_transformers.json:   0%|          | 0.00/171 [00:00<?, ?B/s]"
      ]
     },
     "metadata": {},
     "output_type": "display_data"
    },
    {
     "data": {
      "application/vnd.jupyter.widget-view+json": {
       "model_id": "20c029d766c44f10a222f6c5318e20ff",
       "version_major": 2,
       "version_minor": 0
      },
      "text/plain": [
       "README.md:   0%|          | 0.00/4.20k [00:00<?, ?B/s]"
      ]
     },
     "metadata": {},
     "output_type": "display_data"
    },
    {
     "data": {
      "application/vnd.jupyter.widget-view+json": {
       "model_id": "26635d49d81b40ffbcbada0949564f22",
       "version_major": 2,
       "version_minor": 0
      },
      "text/plain": [
       "sentence_bert_config.json:   0%|          | 0.00/53.0 [00:00<?, ?B/s]"
      ]
     },
     "metadata": {},
     "output_type": "display_data"
    },
    {
     "data": {
      "application/vnd.jupyter.widget-view+json": {
       "model_id": "6c9d33306e41446eac175c3a9d4e4fac",
       "version_major": 2,
       "version_minor": 0
      },
      "text/plain": [
       "config.json:   0%|          | 0.00/799 [00:00<?, ?B/s]"
      ]
     },
     "metadata": {},
     "output_type": "display_data"
    },
    {
     "data": {
      "application/vnd.jupyter.widget-view+json": {
       "model_id": "86dbe57d615a4fa0afe0c63befd17165",
       "version_major": 2,
       "version_minor": 0
      },
      "text/plain": [
       "model.safetensors:   0%|          | 0.00/2.24G [00:00<?, ?B/s]"
      ]
     },
     "metadata": {},
     "output_type": "display_data"
    },
    {
     "data": {
      "application/vnd.jupyter.widget-view+json": {
       "model_id": "c54f832266474ef3be56c01609507472",
       "version_major": 2,
       "version_minor": 0
      },
      "text/plain": [
       "tokenizer_config.json:   0%|          | 0.00/1.34k [00:00<?, ?B/s]"
      ]
     },
     "metadata": {},
     "output_type": "display_data"
    },
    {
     "data": {
      "application/vnd.jupyter.widget-view+json": {
       "model_id": "55f69e83fe6d4614b98f73db290f7e7f",
       "version_major": 2,
       "version_minor": 0
      },
      "text/plain": [
       "sentencepiece.bpe.model:   0%|          | 0.00/5.07M [00:00<?, ?B/s]"
      ]
     },
     "metadata": {},
     "output_type": "display_data"
    },
    {
     "data": {
      "application/vnd.jupyter.widget-view+json": {
       "model_id": "5ed1f55c74ee4b189feb5257fa54c8f2",
       "version_major": 2,
       "version_minor": 0
      },
      "text/plain": [
       "tokenizer.json:   0%|          | 0.00/17.1M [00:00<?, ?B/s]"
      ]
     },
     "metadata": {},
     "output_type": "display_data"
    },
    {
     "data": {
      "application/vnd.jupyter.widget-view+json": {
       "model_id": "d9c356216af6487286cec9972d8852cf",
       "version_major": 2,
       "version_minor": 0
      },
      "text/plain": [
       "special_tokens_map.json:   0%|          | 0.00/964 [00:00<?, ?B/s]"
      ]
     },
     "metadata": {},
     "output_type": "display_data"
    },
    {
     "data": {
      "application/vnd.jupyter.widget-view+json": {
       "model_id": "29387b770bdf453b80243b9ea306d301",
       "version_major": 2,
       "version_minor": 0
      },
      "text/plain": [
       "1_Pooling/config.json:   0%|          | 0.00/297 [00:00<?, ?B/s]"
      ]
     },
     "metadata": {},
     "output_type": "display_data"
    },
    {
     "name": "stdout",
     "output_type": "stream",
     "text": [
      "[[-0.0006191  -0.01398638 -0.04349571 ... -0.02825317 -0.0346139\n",
      "   0.00834244]\n",
      " [ 0.01229073  0.00650184 -0.04806048 ... -0.01539413 -0.0452978\n",
      "   0.0067113 ]\n",
      " [ 0.01737759 -0.02313317 -0.0370433  ... -0.00069481 -0.01052742\n",
      "  -0.0007528 ]]\n"
     ]
    }
   ],
   "source": [
    "model = SentenceTransformer('djovak/embedic-large')"
   ]
  },
  {
   "cell_type": "code",
   "execution_count": 38,
   "id": "06157e27",
   "metadata": {},
   "outputs": [
    {
     "data": {
      "image/png": "[encoded data removed]",
      "text/plain": [
       "<Figure size 576x432 with 2 Axes>"
      ]
     },
     "metadata": {
      "needs_background": "light"
     },
     "output_type": "display_data"
    }
   ],
   "source": [
    "sentences = [\n",
    "    # Nikola Tesla\n",
    "    \"Nikola Tesla je rođen 10. jula 1856. godine u Smiljanu.\",\n",
    "    \"Bio je jedan od najvećih pronalazača svih vremena.\",\n",
    "    \"Njegov rad na naizmeničnoj struji promenio je svet.\",\n",
    "    \"Tesla je izumeo Teslin kalem.\",\n",
    "    \"Razvio je prvi radio pred Marconija.\",\n",
    "    \"Patentirao je više od 300 pronalazaka.\",\n",
    "    \"Njegova laboratorija u Kolorado Springsu bila je centar istraživanja.\",\n",
    "    \"Tesla je imao viziju bežične energije.\",\n",
    "    \"Sarađivao je sa Edisonom, ali su se razišli zbog nesuglasica.\",\n",
    "    \"Njegova turbina bila je inovativna, ali nije komercijalizovana.\",\n",
    "    \"Tesla je predvideo bežičnu komunikaciju.\",\n",
    "    \"Mnoge njegove ideje bile su ispred vremena.\",\n",
    "    \"Njegova istraživanja inspirisala su brojne naučnike.\",\n",
    "    \"Tesla je tvrdio da je imao kontakt sa vanzemaljcima.\",\n",
    "    \"Njegove teorije o besplatnoj energiji ostale su kontroverzne.\",\n",
    "    \"Njegova smrt 1943. godine prošla je bez velike pažnje.\",\n",
    "    \"Njegovi radovi su kasnije otkriveni i korišćeni.\",\n",
    "    \"Tesla je bio poznat po ekscentričnosti.\",\n",
    "    \"Mnogi ga smatraju nepriznatim genijem.\",\n",
    "    \"Njegov lik se nalazi na novčanici od 100 dinara u Srbiji.\",\n",
    "    # Albert Ajnštajn\n",
    "    \"Albert Ajnštajn je rođen 1879. godine u Nemačkoj.\",\n",
    "    \"Njegova teorija relativnosti promenila je fiziku.\",\n",
    "    \"Dobio je Nobelovu nagradu za fotoelektrični efekat.\",\n",
    "    \"E=mc^2 je jedna od najpoznatijih jednačina.\",\n",
    "    \"Njegov rad je imao ključnu ulogu u razvoju kvantne mehanike.\",\n",
    "    \"Pobegao je iz Nemačke pred nacistima.\",\n",
    "    \"Radio je na Prinstonu do kraja života.\",\n",
    "    \"Ajnštajn je bio poznat po svojoj pacifističkoj politici.\",\n",
    "    \"Pisao je pismo Ruzveltu o mogućnosti nuklearnog oružja.\",\n",
    "    \"Njegov mozak je sačuvan i proučavan.\",\n",
    "    \"Bio je veliki zagovornik građanskih prava.\",\n",
    "    \"Nikada nije voleo formalno obrazovanje.\",\n",
    "    \"Bio je talentovan i za muziku.\",\n",
    "    \"Njegove teorije i danas oblikuju modernu fiziku.\",\n",
    "    \"Nije bio direktno uključen u Projekat Menhetn.\",\n",
    "    \"Njegova slika sa izbačenim jezikom postala je ikonična.\",\n",
    "    \"Njegova pisma otkrivaju njegovu humanost.\",\n",
    "    \"Verovao je u deterministički univerzum.\",\n",
    "    \"Njegov rad je inspirisao generacije naučnika.\",\n",
    "    \"Preminuo je 1955. godine u Americi.\",\n",
    "    # Toše Proeski\n",
    "    \"Toše Proeski je bio makedonski pevač.\",\n",
    "    \"Rođen je 1981. godine u Kruševu.\",\n",
    "    \"Njegova karijera je započela u mladosti.\",\n",
    "    \"Osvojio je brojne nagrade za svoj rad.\",\n",
    "    \"Njegov hit 'Čija si' postao je klasik.\",\n",
    "    \"Pevao je na Balkanu i šire.\",\n",
    "    \"Bio je poznat po humanitarnom radu.\",\n",
    "    \"Njegov glas je bio prepoznatljiv i emotivan.\",\n",
    "    \"Tragično je preminuo 2007. godine.\",\n",
    "    \"Njegova muzika živi i danas.\",\n",
    "    \"Bio je ambasador dobre volje UNICEF-a.\",\n",
    "    \"Njegov poslednji album izašao je posthumno.\",\n",
    "    \"Ostavio je veliki uticaj na muzičku scenu.\",\n",
    "    \"Njegov koncert u Beogradu bio je nezaboravan.\",\n",
    "    \"Mnogi fanovi ga i dalje pamte i poštuju.\",\n",
    "    \"Njegova muzika je spoj emocija i energije.\",\n",
    "    \"Njegova pesma 'Igra bez granica' je večni hit.\",\n",
    "    \"Bio je voljen širom Balkana.\",\n",
    "    \"Njegova porodica čuva sećanje na njega.\",\n",
    "    \"Toše Proeski ostaje legenda balkanske muzike.\",\n",
    "    # Cakana\n",
    "    \"Cakana je poznata srpska pevačica.\",\n",
    "    \"Njen glas je prepoznatljiv na estradi.\",\n",
    "    \"Karijeru je započela osamdesetih godina.\",\n",
    "    \"Poznata je po narodnoj muzici.\",\n",
    "    \"Njeni hitovi su popularni među ljubiteljima folka.\",\n",
    "    \"Često nastupa na televiziji.\",\n",
    "    \"Njeni koncerti su puni emocija.\",\n",
    "    \"Ona je prisutna na muzičkoj sceni decenijama.\",\n",
    "    \"Njen stil je autentičan i prepoznatljiv.\",\n",
    "    \"Sarađivala je sa mnogim muzičarima.\",\n",
    "    \"Njena publika je verna i brojna.\",\n",
    "    \"Njene pesme nose tradicionalni zvuk.\",\n",
    "    \"Pevala je širom Balkana.\",\n",
    "    \"Njena muzika je deo narodnog melosa.\",\n",
    "    \"Nastupa na festivalima i događajima.\",\n",
    "    \"Njeni spotovi imaju veliki broj pregleda.\",\n",
    "    \"Njena diskografija je bogata hitovima.\",\n",
    "    \"Ostala je dosledna svom muzičkom pravcu.\",\n",
    "    \"Njena energija na sceni je prepoznatljiva.\",\n",
    "    \"Cakana je ikona narodne muzike.\"\n",
    "]\n",
    "\n",
    "# Kreiranje embeddings\n",
    "# model = SentenceTransformer('djovak/embedic-large')\n",
    "embeddings = model.encode(sentences)\n",
    "\n",
    "# Klasterovanje u 4 grupe\n",
    "kmeans = KMeans(n_clusters=4, random_state=42)\n",
    "labels = kmeans.fit_predict(embeddings)\n",
    "\n",
    "# Upoređivanje sa originalnim grupama\n",
    "true_labels_unique = ['Tesla', 'Anštajn', 'Toše', 'Cakana']\n",
    "true_labels = [[x] * 20 for x in true_labels_unique]\n",
    "true_labels = list(itertools.chain.from_iterable(true_labels))\n",
    "\n",
    "\n",
    "true_label_mapping = {name: i for i, name in enumerate(true_labels_unique)}\n",
    "true_labels_numeric = np.array([true_label_mapping[label] for label in true_labels])\n",
    "\n",
    "# Compute contingency matrix\n",
    "contingency = confusion_matrix(true_labels_numeric, labels)\n",
    "\n",
    "# Plot heatmap with true labels on y-axis\n",
    "plt.figure(figsize=(8, 6))\n",
    "sns.heatmap(contingency, annot=True, fmt='d', cmap='Blues', \n",
    "            xticklabels=[f'Cluster {i+1}' for i in range(contingency.shape[1])], \n",
    "            yticklabels=true_labels_unique)  # Add true labels on y-axis\n",
    "plt.xlabel('Predicted Cluster')\n",
    "plt.ylabel('True Label')\n",
    "plt.title('Mapping of True Labels to Predicted Clusters')\n",
    "plt.show()\n"
   ]
  },
  {
   "cell_type": "code",
   "execution_count": 33,
   "id": "24927d90",
   "metadata": {},
   "outputs": [],
   "source": [
    "# CAKANA is most predictable!"
   ]
  },
  {
   "cell_type": "code",
   "execution_count": null,
   "id": "0c6b6071",
   "metadata": {},
   "outputs": [],
   "source": []
  }
 ],
 "metadata": {
  "kernelspec": {
   "display_name": "Python 3 (ipykernel)",
   "language": "python",
   "name": "python3"
  },
  "language_info": {
   "codemirror_mode": {
    "name": "ipython",
    "version": 3
   },
   "file_extension": ".py",
   "mimetype": "text/x-python",
   "name": "python",
   "nbconvert_exporter": "python",
   "pygments_lexer": "ipython3",
   "version": "3.9.12"
  }
 },
 "nbformat": 4,
 "nbformat_minor": 5
}
